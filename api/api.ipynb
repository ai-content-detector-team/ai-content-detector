{
 "cells": [
  {
   "cell_type": "code",
   "execution_count": null,
   "id": "349040dd",
   "metadata": {
    "vscode": {
     "languageId": "plaintext"
    }
   },
   "outputs": [],
   "source": [
    "import pandas as pd\n",
    "from sklearn.model_selection import train_test_split\n",
    "from sklearn.feature_extraction.text import TfidfVectorizer\n",
    "from sklearn.pipeline import make_pipeline\n",
    "from sklearn.linear_model import LogisticRegression\n",
    "from sklearn.metrics import classification_report, confusion_matrix\n",
    "import joblib\n",
    "import os"
   ]
  },
  {
   "cell_type": "code",
   "execution_count": null,
   "id": "571846ac",
   "metadata": {
    "vscode": {
     "languageId": "plaintext"
    }
   },
   "outputs": [],
   "source": [
    "# Chargement du dataset\n",
    "\n",
    "df = pd.read_csv(\"Dataset-IA_vs_Human.csv\", encoding=\"utf-8\")\n",
    "X = df[\"text\"].astype(str)\n",
    "y = df[\"label\"].astype(int)"
   ]
  },
  {
   "cell_type": "code",
   "execution_count": null,
   "id": "de44440b",
   "metadata": {
    "vscode": {
     "languageId": "plaintext"
    }
   },
   "outputs": [],
   "source": [
    "# Découpage train/test\n",
    "\n",
    "X_train, X_test, y_train, y_test = train_test_split(\n",
    "    X, y, test_size=0.2, stratify=y, random_state=42\n",
    ")"
   ]
  },
  {
   "cell_type": "code",
   "execution_count": null,
   "id": "f39aca50",
   "metadata": {
    "vscode": {
     "languageId": "plaintext"
    }
   },
   "outputs": [],
   "source": [
    "# Transformation texte en nombres (TF-IDF)\n",
    "\n",
    "tfidf = TfidfVectorizer(\n",
    "    ngram_range=(1, 2),\n",
    "    min_df=2,\n",
    "    max_df=0.95,\n",
    "    lowercase=True,\n",
    "    strip_accents=\"unicode\"\n",
    ")\n",
    "X_train_tfidf = tfidf.fit_transform(X_train)\n",
    "X_test_tfidf  = tfidf.transform(X_test)"
   ]
  },
  {
   "cell_type": "code",
   "execution_count": null,
   "id": "deaad56d",
   "metadata": {
    "vscode": {
     "languageId": "plaintext"
    }
   },
   "outputs": [],
   "source": [
    "# Modèle : Régression Logistique\n",
    "\n",
    "clf = LogisticRegression(class_weight=\"balanced\", max_iter=2000)\n",
    "clf.fit(X_train_tfidf, y_train)\n"
   ]
  },
  {
   "cell_type": "code",
   "execution_count": null,
   "id": "91e5e254",
   "metadata": {
    "vscode": {
     "languageId": "plaintext"
    }
   },
   "outputs": [],
   "source": [
    "# pipeline #\n",
    "\n",
    "pipe = make_pipeline(tfidf, clf)"
   ]
  },
  {
   "cell_type": "code",
   "execution_count": null,
   "id": "0bbc9c8b",
   "metadata": {
    "vscode": {
     "languageId": "plaintext"
    }
   },
   "outputs": [],
   "source": [
    "# Évaluation\n",
    "\n",
    "y_pred = clf.predict(X_test_tfidf)\n",
    "print(\"\\n Rapport de classification\")\n",
    "print(classification_report(y_test, y_pred, target_names=[\"Humain (0)\", \"IA (1)\"]))\n",
    "\n",
    "print(\"\\n Matrice de confusion\")\n",
    "print(confusion_matrix(y_test, y_pred))"
   ]
  },
  {
   "cell_type": "code",
   "execution_count": null,
   "id": "e876b5ff",
   "metadata": {
    "vscode": {
     "languageId": "plaintext"
    }
   },
   "outputs": [],
   "source": [
    "from sklearn.pipeline import make_pipeline\n",
    "import joblib\n",
    "import os"
   ]
  },
  {
   "cell_type": "code",
   "execution_count": null,
   "id": "26d4c710",
   "metadata": {
    "vscode": {
     "languageId": "plaintext"
    }
   },
   "outputs": [],
   "source": [
    "# pipeline #\n",
    "\n",
    "pipe = make_pipeline(tfidf, clf)"
   ]
  },
  {
   "cell_type": "code",
   "execution_count": null,
   "id": "cf81b26f",
   "metadata": {
    "vscode": {
     "languageId": "plaintext"
    }
   },
   "outputs": [],
   "source": [
    "# création du fichier #\n",
    "\n",
    "joblib.dump(pipe, \"model.joblib\")\n",
    "print(\"OK → model.joblib créé\")"
   ]
  },
  {
   "cell_type": "code",
   "execution_count": null,
   "id": "e47c2202",
   "metadata": {
    "vscode": {
     "languageId": "plaintext"
    }
   },
   "outputs": [],
   "source": [
    "app_code = \"\"\"\n",
    "from fastapi import FastAPI\n",
    "from pydantic import BaseModel\n",
    "import joblib\n",
    "import os\n",
    "\n",
    "app = FastAPI(title=\"IA vs Humain — API (TF-IDF + LogReg)\")\n",
    "\n",
    "# Chargement du modèle\n",
    "if os.path.exists(\"model.joblib\"):\n",
    "    pipeline = joblib.load(\"model.joblib\")\n",
    "else:\n",
    "\n",
    "    print(\"Erreur : model.joblib non trouvé.\")\n",
    "    exit()\n",
    "\n",
    "CLASS_MAP = {0: \"Humain\", 1: \"IA\"}\n",
    "\n",
    "class PredictIn(BaseModel):\n",
    "    text: str\n",
    "\n",
    "@app.get(\"/health\")\n",
    "def health():\n",
    "    return {\"status\": \"ok\", \"model_loaded\": True}\n",
    "\n",
    "@app.post(\"/predict\")\n",
    "def predict(req: PredictIn):\n",
    "    proba = pipeline.predict_proba([req.text])[0]  # [P(0), P(1)]\n",
    "    label = int(proba[1] >= 0.5)\n",
    "    return {\n",
    "        \"label\": label,\n",
    "        \"label_name\": CLASS_MAP[label],\n",
    "        \"proba_human\": float(proba[0]),\n",
    "        \"proba_ai\": float(proba[1]),\n",
    "    }\n",
    "    \"\"\"\n",
    "\n",
    "# Création 'app' si inexistant\n",
    "if not os.path.exists(\"app\"):\n",
    "    os.makedirs(\"app\")\n",
    "\n",
    "with open(\"app/app.py\", \"w\") as f:\n",
    "    f.write(app_code)\n",
    "\n",
    "print(\"OK → app.py créé\")"
   ]
  },
  {
   "cell_type": "code",
   "execution_count": null,
   "id": "56e4fdb2",
   "metadata": {
    "vscode": {
     "languageId": "plaintext"
    }
   },
   "outputs": [],
   "source": [
    "pip install fastapi uvicorn"
   ]
  },
  {
   "cell_type": "code",
   "execution_count": null,
   "id": "4d62ba9d",
   "metadata": {
    "vscode": {
     "languageId": "plaintext"
    }
   },
   "outputs": [],
   "source": [
    "!uvicorn app:app --reload"
   ]
  }
 ],
 "metadata": {
  "language_info": {
   "name": "python"
  }
 },
 "nbformat": 4,
 "nbformat_minor": 5
}
